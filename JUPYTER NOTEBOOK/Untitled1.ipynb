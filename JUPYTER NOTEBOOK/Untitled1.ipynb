{
 "cells": [
  {
   "cell_type": "code",
   "execution_count": null,
   "id": "d0053a0e",
   "metadata": {
    "scrolled": true
   },
   "outputs": [],
   "source": []
  },
  {
   "cell_type": "code",
   "execution_count": null,
   "id": "aa67a6ee",
   "metadata": {},
   "outputs": [],
   "source": [
    "from preprocess import *\n",
    "import keras"
   ]
  },
  {
   "cell_type": "code",
   "execution_count": 5,
   "id": "5c83697f",
   "metadata": {},
   "outputs": [
    {
     "ename": "SyntaxError",
     "evalue": "invalid syntax (3765444439.py, line 3)",
     "output_type": "error",
     "traceback": [
      "\u001b[1;36m  Cell \u001b[1;32mIn [5], line 3\u001b[1;36m\u001b[0m\n\u001b[1;33m    X, Y = get corpus data(abstract_grammars)\u001b[0m\n\u001b[1;37m               ^\u001b[0m\n\u001b[1;31mSyntaxError\u001b[0m\u001b[1;31m:\u001b[0m invalid syntax\n"
     ]
    }
   ],
   "source": [
    "# data = 'midi/' + 'original_metheny.mid'\n",
    "abstract_grammars = get_musical_data(data_fn)\n",
    "X, Y = get corpus data(abstract_grammars)\n",
    "  Input In [14]\n",
    "    X, Y = get corpus data(abstract_grammars)\n",
    "    model = Squential()\n",
    "model.add(LSTM(128, return_sequences=True, input_shape=(max_len, N_values)))\n",
    "model.add(dropout(0.2))\n",
    "model.add(LSTM(128, return_sequences = False))\n",
    "model.add(Dropout(0.2))\n",
    "model.add(Dense(N_values))\n",
    "model.add(Activation('softmax'))"
   ]
  },
  {
   "cell_type": "code",
   "execution_count": 11,
   "id": "099a0dce",
   "metadata": {},
   "outputs": [
    {
     "ename": "NameError",
     "evalue": "name 'i' is not defined",
     "output_type": "error",
     "traceback": [
      "\u001b[1;31m---------------------------------------------------------------------------\u001b[0m",
      "\u001b[1;31mNameError\u001b[0m                                 Traceback (most recent call last)",
      "Cell \u001b[1;32mIn [11], line 7\u001b[0m\n\u001b[0;32m      3\u001b[0m n2\u001b[38;5;241m=\u001b[39mnote\u001b[38;5;241m.\u001b[39mNote(\u001b[38;5;124m'\u001b[39m\u001b[38;5;124mC4\u001b[39m\u001b[38;5;124m'\u001b[39m)\n\u001b[0;32m      6\u001b[0m s\u001b[38;5;241m=\u001b[39mstream\u001b[38;5;241m.\u001b[39mStream()\n\u001b[1;32m----> 7\u001b[0m s\u001b[38;5;241m.\u001b[39mappend(n2[i])\n\u001b[0;32m      8\u001b[0m n2\u001b[38;5;241m.\u001b[39mshow()\n\u001b[0;32m     10\u001b[0m \u001b[38;5;28;01mdef\u001b[39;00m \u001b[38;5;21mEmbedSound\u001b[39m(path):\n",
      "\u001b[1;31mNameError\u001b[0m: name 'i' is not defined"
     ]
    }
   ],
   "source": [
    "from music21 import note, stream\n",
    "\n",
    "n2=note.Note('C4')\n",
    "\n",
    "\n",
    "s=stream.Stream()\n",
    "s.append(n2[i])\n",
    "n2.show()\n",
    "\n",
    "def EmbedSound(path):\n",
    "    mf = midi.MidiFile()\n",
    "    mf.open(path) \n",
    "    mf.read()\n",
    "    mf.close()\n",
    "    s = midi.translate.midiFileToStream(mf)\n",
    "    s.show('midi')\n",
    "    \n",
    "fileName = 'tester.midi'\n",
    "\n",
    "EmbedSound(fileName)\n",
    "s.write('midi',fp=fileName)\n",
    " "
   ]
  },
  {
   "cell_type": "code",
   "execution_count": 47,
   "id": "e0bcc2b3",
   "metadata": {},
   "outputs": [
    {
     "data": {
      "text/html": [
       "\n",
       "                <div id=\"midiPlayerDiv21039\"></div>\n",
       "                <link rel=\"stylesheet\" href=\"//cuthbertLab.github.io/music21j/css/m21.css\"\n",
       "                    type=\"text/css\" />\n",
       "                \n",
       "                <script>\n",
       "                require.config({\n",
       "                    paths: {'music21': '//cuthbertLab.github.io/music21j/src/music21'}\n",
       "                });\n",
       "                require(['music21'], function() {\n",
       "                               mp = new music21.miditools.MidiPlayer();\n",
       "                               mp.addPlayer(\"#midiPlayerDiv21039\");\n",
       "                               mp.base64Load(\"data:audio/midi;base64,TVRoZAAAAAYAAQACBABNVHJrAAAAFAD/UQMHoSAA/1gEBAIYCIgA/y8ATVRyawAAAboA/wMAAOAAQADAAIgAkDxaiACAPAAAkDxaiACAPAAAkD5aiACAPgAAkE1aAJBFWgCQSFqIAIBNAACARQAAgEgAAJA8WogAgDwAAJBBWogAgEEAAJBGWgCQSFoAkFJaiACARgAAgEgAAIBSAACQQFqIAIBAAACQPFqIAIA8AACQPFqIAIA8AACQPlqIAIA+AACQTVoAkEVaAJBIWogAgE0AAIBFAACASAAAkDxaiACAPAAAkENaiACAQwAAkEFaiACAQQAAkEZaAJBIWgCQUlqIAIBGAACASAAAgFIAAJA8WogAgDwAAJA8WogAgDwAAJA8WogAgDwAAJBFWogAgEUAAJBBWogAgEEAAJBGWgCQSFoAkFJaiACARgAAgEgAAIBSAACQQFqIAIBAAACQPlqIAIA+AACQTVoAkEVaAJBIWogAgE0AAIBFAACASAAAkEdaiACARwAAkEdaiACARwAAkEVaiACARQAAkEFaiACAQQAAkEZaAJBIWgCQUlqIAIBGAACASAAAgFIAAJBDWogAgEMAAJBBWogAgEEAAJBGWgCQSFoAkFJaiACARgAAgEgAAIBSAIgA/y8A\");\n",
       "                        });\n",
       "                </script>"
      ],
      "text/plain": [
       "<IPython.core.display.HTML object>"
      ]
     },
     "metadata": {},
     "output_type": "display_data"
    },
    {
     "data": {
      "text/plain": [
       "'tester.midi'"
      ]
     },
     "execution_count": 47,
     "metadata": {},
     "output_type": "execute_result"
    }
   ],
   "source": [
    "from music21 import *\n",
    "import numpy as tg\n",
    "from IPython.display import Audio\n",
    "'''\n",
    "README:\n",
    "These are the fixes to code. \n",
    "There also seems to be a way to embed the created files once you run the code.\n",
    "'''\n",
    "n2=note.Note('C4')\n",
    "n3=note.Note('D4')\n",
    "n10=note.Note('D4')\n",
    "n10.quarterLength = .5\n",
    "n4=note.Note('E4')\n",
    "n5=note.Note('F4')\n",
    "n5.quarterLength = 4\n",
    "n6=note.Note('G4')\n",
    "n7=note.Note('A4')\n",
    "'''\n",
    "ln = ['D4', 'D4', 'E4','D4','G4','F4','D4','D4','E4','D4','A4','E4']\n",
    "\n",
    "'''\n",
    "ln = ['C4', 'C4', 'D4','C4','F4','E4','C4','C4','D4','C4','G4','F4','C4','C4','C4','A4','F4',\n",
    "         'E4','D4','B4','B4','A4','F4','G4','F4']\n",
    "\n",
    "s= stream.Stream()\n",
    "\n",
    "for i in range(0,len(ln)):\n",
    "    s.append(note.Note(ln[i]))\n",
    "\n",
    "    if ln[i]=='D4':\n",
    "         s.append(chord.Chord('F5 A4 C5'))\n",
    "    elif ln[i]=='F4':\n",
    "        s.append(chord.Chord('A#4 C5 A#5'))\n",
    "\n",
    "\n",
    "      \n",
    "\n",
    "\n",
    "# Creates music file in jupyter so you don't have to go back in forth in files\n",
    "def EmbedSound(path):\n",
    "    mf = midi.MidiFile()\n",
    "    mf.open(path) \n",
    "    mf.read()\n",
    "    mf.close()\n",
    "    s = midi.translate.midiFileToStream(mf)\n",
    "    s.show('midi')\n",
    "    \n",
    "# The name of the file\n",
    "fileName = 'tester.midi'\n",
    "\n",
    "EmbedSound(fileName)\n",
    "s.write('midi', fp=fileName)"
   ]
  },
  {
   "cell_type": "code",
   "execution_count": null,
   "id": "246e132a",
   "metadata": {},
   "outputs": [],
   "source": []
  },
  {
   "cell_type": "code",
   "execution_count": null,
   "id": "21aecd32",
   "metadata": {},
   "outputs": [],
   "source": []
  },
  {
   "cell_type": "code",
   "execution_count": null,
   "id": "0ef54105",
   "metadata": {},
   "outputs": [],
   "source": []
  },
  {
   "cell_type": "code",
   "execution_count": null,
   "id": "b95c2aa0",
   "metadata": {},
   "outputs": [],
   "source": []
  },
  {
   "cell_type": "code",
   "execution_count": null,
   "id": "e0b48baa",
   "metadata": {},
   "outputs": [],
   "source": []
  },
  {
   "cell_type": "code",
   "execution_count": null,
   "id": "b65ce455",
   "metadata": {},
   "outputs": [],
   "source": []
  },
  {
   "cell_type": "code",
   "execution_count": null,
   "id": "bbac501f",
   "metadata": {},
   "outputs": [],
   "source": []
  }
 ],
 "metadata": {
  "kernelspec": {
   "display_name": "Python 3 (ipykernel)",
   "language": "python",
   "name": "python3"
  },
  "language_info": {
   "codemirror_mode": {
    "name": "ipython",
    "version": 3
   },
   "file_extension": ".py",
   "mimetype": "text/x-python",
   "name": "python",
   "nbconvert_exporter": "python",
   "pygments_lexer": "ipython3",
   "version": "3.10.6"
  }
 },
 "nbformat": 4,
 "nbformat_minor": 5
}
